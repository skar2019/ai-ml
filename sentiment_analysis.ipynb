{
  "nbformat": 4,
  "nbformat_minor": 0,
  "metadata": {
    "colab": {
      "provenance": [],
      "authorship_tag": "ABX9TyOEN3VYN3IPwgztUe7fLNVh",
      "include_colab_link": true
    },
    "kernelspec": {
      "name": "python3",
      "display_name": "Python 3"
    },
    "language_info": {
      "name": "python"
    }
  },
  "cells": [
    {
      "cell_type": "markdown",
      "metadata": {
        "id": "view-in-github",
        "colab_type": "text"
      },
      "source": [
        "<a href=\"https://colab.research.google.com/github/skar2019/ai-ml/blob/main/sentiment_analysis.ipynb\" target=\"_parent\"><img src=\"https://colab.research.google.com/assets/colab-badge.svg\" alt=\"Open In Colab\"/></a>"
      ]
    },
    {
      "cell_type": "markdown",
      "source": [
        "**Sentiment Analysis using TextBlob**"
      ],
      "metadata": {
        "id": "XoPc1Yc81QZ1"
      }
    },
    {
      "cell_type": "code",
      "execution_count": null,
      "metadata": {
        "id": "Dcze86OUvHgJ"
      },
      "outputs": [],
      "source": [
        "!pip install textblob"
      ]
    },
    {
      "cell_type": "code",
      "source": [
        "from textblob import TextBlob\n",
        "\n",
        "# List of sentences to analyze\n",
        "sentences = [\n",
        "    \"I love this place!\",\n",
        "    \"I am so sad about the results.\",\n",
        "    \"The food was okay, not too great but not bad either.\",\n",
        "    \"Wow, this is amazing!\",\n",
        "    \"I don't like the way things turned out.\"\n",
        "]\n",
        "\n",
        "# Analyze sentiment for each sentence\n",
        "for sentence in sentences:\n",
        "    blob = TextBlob(sentence)\n",
        "    sentiment = blob.sentiment\n",
        "    print(f\"Sentence: '{sentence}'\")\n",
        "    print(f\"Polarity: {sentiment.polarity}, Subjectivity: {sentiment.subjectivity}\")\n",
        "    print(\"Sentiment:\", \"Positive\" if sentiment.polarity > 0 else \"Negative\" if sentiment.polarity < 0 else \"Neutral\")\n",
        "    print(\"-\" * 40)\n"
      ],
      "metadata": {
        "id": "XJIIJUmfvXsD"
      },
      "execution_count": null,
      "outputs": []
    },
    {
      "cell_type": "markdown",
      "source": [
        "**Sentiment Analysis Using Hugging Face Transformers**"
      ],
      "metadata": {
        "id": "M8pnR74n1YEv"
      }
    },
    {
      "cell_type": "code",
      "source": [
        "!pip install transformers torch"
      ],
      "metadata": {
        "id": "nMHdQRG7vfy2"
      },
      "execution_count": null,
      "outputs": []
    },
    {
      "cell_type": "code",
      "source": [
        "from transformers import pipeline\n",
        "\n",
        "# Load the sentiment-analysis pipeline\n",
        "sentiment_pipeline = pipeline(\"sentiment-analysis\")\n",
        "\n",
        "# List of sentences to analyze\n",
        "sentences = [\n",
        "    \"I love this place!\",\n",
        "    \"I am so sad about the results.\",\n",
        "    \"The food was okay, not too great but not bad either.\",\n",
        "    \"Wow, this is amazing!\",\n",
        "    \"I don't like the way things turned out.\"\n",
        "]\n",
        "\n",
        "# Analyze sentiment for each sentence\n",
        "for sentence in sentences:\n",
        "    result = sentiment_pipeline(sentence)[0]\n",
        "    print(f\"Sentence: '{sentence}'\")\n",
        "    print(f\"Label: {result['label']}, Score: {result['score']}\")\n",
        "    print(\"-\" * 40)\n"
      ],
      "metadata": {
        "id": "rfRWWlX4vkCJ"
      },
      "execution_count": null,
      "outputs": []
    },
    {
      "cell_type": "markdown",
      "source": [
        "**Hugging Face's Roberta Model Fine-tuned for Sentiment**"
      ],
      "metadata": {
        "id": "csE0yeNI1nOz"
      }
    },
    {
      "cell_type": "code",
      "source": [
        "from transformers import AutoTokenizer, AutoModelForSequenceClassification\n",
        "import torch\n",
        "\n",
        "# Load tokenizer and model\n",
        "tokenizer = AutoTokenizer.from_pretrained(\"textattack/roberta-base-SST-2\")\n",
        "model = AutoModelForSequenceClassification.from_pretrained(\"textattack/roberta-base-SST-2\")\n",
        "\n",
        "# Define sentences\n",
        "sentences = [\n",
        "    \"I love this place!\",\n",
        "    \"I am so sad about the results.\",\n",
        "    \"The food was okay, not too great but not bad either.\",\n",
        "    \"Wow, this is amazing!\",\n",
        "    \"I don't like the way things turned out.\"\n",
        "]\n",
        "\n",
        "# Analyze sentiment\n",
        "for sentence in sentences:\n",
        "    inputs = tokenizer(sentence, return_tensors=\"pt\")\n",
        "    outputs = model(**inputs)\n",
        "    logits = outputs.logits\n",
        "    sentiment = torch.softmax(logits, dim=1)\n",
        "    pos_score = sentiment[0][1].item()\n",
        "    neg_score = sentiment[0][0].item()\n",
        "    print(f\"Sentence: '{sentence}'\")\n",
        "    print(f\"Positive Score: {pos_score}, Negative Score: {neg_score}\")\n",
        "    print(\"Sentiment:\", \"Positive\" if pos_score > neg_score else \"Negative\")\n",
        "    print(\"-\" * 40)\n"
      ],
      "metadata": {
        "id": "ZQTYfh4wxV4c"
      },
      "execution_count": null,
      "outputs": []
    },
    {
      "cell_type": "markdown",
      "source": [
        "**Sentiment Analysis Using SpaCy with Transformer Model**"
      ],
      "metadata": {
        "id": "zNblwGC-xfuY"
      }
    },
    {
      "cell_type": "code",
      "source": [
        "!pip install spacy\n",
        "!pip install spacy-transformers\n",
        "\n",
        "!pip install spacy[transformers]\n",
        "!python -m spacy download en_core_web_trf\n"
      ],
      "metadata": {
        "id": "ssd81Qe8xgH_"
      },
      "execution_count": null,
      "outputs": []
    },
    {
      "cell_type": "code",
      "source": [
        "from textblob import TextBlob\n",
        "\n",
        "# Define sentences\n",
        "sentences = [\n",
        "    \"I love this place!\",\n",
        "    \"I am so sad about the results.\",\n",
        "    \"The food was okay, not too great but not bad either.\",\n",
        "    \"Wow, this is amazing!\",\n",
        "    \"I don't like the way things turned out.\"\n",
        "]\n",
        "\n",
        "# Analyze sentiment for each sentence\n",
        "for sentence in sentences:\n",
        "    blob = TextBlob(sentence)\n",
        "    print(f\"Sentence: '{sentence}'\")\n",
        "    print(\"Sentiment Polarity:\", blob.sentiment.polarity)\n",
        "    print(\"Sentiment Subjectivity:\", blob.sentiment.subjectivity)\n",
        "    print(\"-\" * 40)\n"
      ],
      "metadata": {
        "id": "SZz2BuoYxtEi"
      },
      "execution_count": null,
      "outputs": []
    },
    {
      "cell_type": "markdown",
      "source": [
        "**Using Flair for Text Sentiment**"
      ],
      "metadata": {
        "id": "Fd_5jI3qx_Jy"
      }
    },
    {
      "cell_type": "code",
      "source": [
        "!pip install flair"
      ],
      "metadata": {
        "id": "v5EJM3LYyC_o"
      },
      "execution_count": null,
      "outputs": []
    },
    {
      "cell_type": "code",
      "source": [
        "from flair.models import TextClassifier\n",
        "from flair.data import Sentence\n",
        "\n",
        "# Load the sentiment model\n",
        "classifier = TextClassifier.load(\"sentiment\")\n",
        "\n",
        "# Define sentences\n",
        "sentences = [\n",
        "    \"I love this place!\",\n",
        "    \"I am so sad about the results.\",\n",
        "    \"The food was okay, not too great but not bad either.\",\n",
        "    \"Wow, this is amazing!\",\n",
        "    \"I don't like the way things turned out.\"\n",
        "]\n",
        "\n",
        "# Analyze sentiment\n",
        "for text in sentences:\n",
        "    sentence = Sentence(text)\n",
        "    classifier.predict(sentence)\n",
        "    label = sentence.labels[0]\n",
        "    print(f\"Sentence: '{text}'\")\n",
        "    print(f\"Sentiment: {label.value}, Confidence: {label.score}\")\n",
        "    print(\"-\" * 40)\n"
      ],
      "metadata": {
        "id": "t6GXHbfSyNGK"
      },
      "execution_count": null,
      "outputs": []
    },
    {
      "cell_type": "code",
      "source": [],
      "metadata": {
        "id": "8tstrDQrzGAr"
      },
      "execution_count": null,
      "outputs": []
    }
  ]
}